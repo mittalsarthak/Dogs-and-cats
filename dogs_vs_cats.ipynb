{
  "nbformat": 4,
  "nbformat_minor": 0,
  "metadata": {
    "colab": {
      "name": "dogs-vs-cats",
      "version": "0.3.2",
      "provenance": []
    },
    "kernelspec": {
      "name": "python3",
      "display_name": "Python 3"
    },
    "accelerator": "GPU"
  },
  "cells": [
    {
      "metadata": {
        "id": "NCdho0BSxvnn",
        "colab_type": "code",
        "colab": {
          "base_uri": "https://localhost:8080/",
          "height": 246
        },
        "outputId": "2cc1e246-9ec8-4218-9b14-e76010bcc51b"
      },
      "cell_type": "code",
      "source": [
        "!pip install kaggle\n",
        "!pip install tqdm\n",
        "!pip install np_utils"
      ],
      "execution_count": 16,
      "outputs": [
        {
          "output_type": "stream",
          "text": [
            "Requirement already satisfied: kaggle in /usr/local/lib/python3.6/dist-packages (1.3.11.1)\r\n",
            "Requirement already satisfied: tqdm in /usr/local/lib/python3.6/dist-packages (from kaggle) (4.23.4)\r\n",
            "Requirement already satisfied: requests in /usr/local/lib/python3.6/dist-packages (from kaggle) (2.18.4)\r\n",
            "Requirement already satisfied: certifi in /usr/local/lib/python3.6/dist-packages (from kaggle) (2018.4.16)\r\n",
            "Requirement already satisfied: six>=1.10 in /usr/local/lib/python3.6/dist-packages (from kaggle) (1.11.0)\r\n",
            "Requirement already satisfied: urllib3<1.23.0,>=1.15 in /usr/local/lib/python3.6/dist-packages (from kaggle) (1.22)\n",
            "Requirement already satisfied: python-dateutil in /usr/local/lib/python3.6/dist-packages (from kaggle) (2.5.3)\n",
            "Requirement already satisfied: chardet<3.1.0,>=3.0.2 in /usr/local/lib/python3.6/dist-packages (from requests->kaggle) (3.0.4)\n",
            "Requirement already satisfied: idna<2.7,>=2.5 in /usr/local/lib/python3.6/dist-packages (from requests->kaggle) (2.6)\n",
            "Requirement already satisfied: tqdm in /usr/local/lib/python3.6/dist-packages (4.23.4)\n",
            "Requirement already satisfied: np_utils in /usr/local/lib/python3.6/dist-packages (0.5.5.0)\n",
            "Requirement already satisfied: numpy>=1.0 in /usr/local/lib/python3.6/dist-packages (from np_utils) (1.14.5)\n",
            "Requirement already satisfied: future>=0.16 in /usr/local/lib/python3.6/dist-packages (from np_utils) (0.16.0)\n"
          ],
          "name": "stdout"
        }
      ]
    },
    {
      "metadata": {
        "id": "UvqC9XTqxyzu",
        "colab_type": "code",
        "colab": {
          "base_uri": "https://localhost:8080/",
          "height": 52
        },
        "outputId": "d6928eed-6d93-4a43-b18f-63002917f918"
      },
      "cell_type": "code",
      "source": [
        "ls -a"
      ],
      "execution_count": 17,
      "outputs": [
        {
          "output_type": "stream",
          "text": [
            "\u001b[0m\u001b[01;34m.\u001b[0m/   \u001b[01;34m.cache\u001b[0m/   \u001b[01;34mdatalab\u001b[0m/   \u001b[01;34m.ipython\u001b[0m/  \u001b[01;34m.keras\u001b[0m/  .rnd\r\n",
            "\u001b[01;34m..\u001b[0m/  \u001b[01;34m.config\u001b[0m/  \u001b[01;34m.forever\u001b[0m/  \u001b[01;34m.kaggle\u001b[0m/   \u001b[01;34m.local\u001b[0m/\r\n"
          ],
          "name": "stdout"
        }
      ]
    },
    {
      "metadata": {
        "id": "W0SVLp4qyNvD",
        "colab_type": "code",
        "colab": {
          "base_uri": "https://localhost:8080/",
          "height": 34
        },
        "outputId": "8deb57a9-2237-4af3-d960-e1d882dc72a5"
      },
      "cell_type": "code",
      "source": [
        "!mkdir .kaggle"
      ],
      "execution_count": 18,
      "outputs": [
        {
          "output_type": "stream",
          "text": [
            "mkdir: cannot create directory ‘.kaggle’: File exists\r\n"
          ],
          "name": "stdout"
        }
      ]
    },
    {
      "metadata": {
        "id": "NRgzV-8Efd-h",
        "colab_type": "code",
        "colab": {
          "resources": {
            "http://localhost:8080/nbextensions/google.colab/files.js": {
              "data": "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",
              "ok": true,
              "headers": [
                [
                  "content-type",
                  "application/javascript"
                ]
              ],
              "status": 200,
              "status_text": ""
            }
          },
          "base_uri": "https://localhost:8080/",
          "height": 72
        },
        "outputId": "3066561c-cb22-4c75-f180-4201658a53a3"
      },
      "cell_type": "code",
      "source": [
        "from google.colab import files\n",
        "\n",
        "uploaded = files.upload()"
      ],
      "execution_count": 19,
      "outputs": [
        {
          "output_type": "display_data",
          "data": {
            "text/html": [
              "\n",
              "     <input type=\"file\" id=\"files-b40aebd5-144c-4c60-871b-bb3e1ceb0356\" name=\"files[]\" multiple disabled />\n",
              "     <output id=\"result-b40aebd5-144c-4c60-871b-bb3e1ceb0356\">\n",
              "      Upload widget is only available when the cell has been executed in the\n",
              "      current browser session. Please rerun this cell to enable.\n",
              "      </output>\n",
              "      <script src=\"/nbextensions/google.colab/files.js\"></script> "
            ],
            "text/plain": [
              "<IPython.core.display.HTML object>"
            ]
          },
          "metadata": {
            "tags": []
          }
        },
        {
          "output_type": "stream",
          "text": [
            "Saving kaggle.json to kaggle.json\n"
          ],
          "name": "stdout"
        }
      ]
    },
    {
      "metadata": {
        "id": "wkhaaaJ2fvAs",
        "colab_type": "code",
        "colab": {}
      },
      "cell_type": "code",
      "source": [
        "!mv kaggle.json ./.kaggle"
      ],
      "execution_count": 0,
      "outputs": []
    },
    {
      "metadata": {
        "id": "_NpzRlIFYiXK",
        "colab_type": "code",
        "colab": {
          "base_uri": "https://localhost:8080/",
          "height": 193
        },
        "outputId": "20144805-b4a7-4a4b-99a2-4ed18afda4a0"
      },
      "cell_type": "code",
      "source": [
        "\n",
        "!kaggle competitions download -c dogs-vs-cats-redux-kernels-edition"
      ],
      "execution_count": 21,
      "outputs": [
        {
          "output_type": "stream",
          "text": [
            "Warning: Your Kaggle API key is readable by other users on this system! To fix this, you can run 'chmod 600 /content/.kaggle/kaggle.json'\n",
            "Downloading test.zip to /content/.kaggle/competitions/dogs-vs-cats-redux-kernels-edition\n",
            " 97%|███████████████████████████████████████▋ | 263M/271M [00:01<00:00, 158MB/s]\n",
            "100%|█████████████████████████████████████████| 271M/271M [00:01<00:00, 155MB/s]\n",
            "Downloading train.zip to /content/.kaggle/competitions/dogs-vs-cats-redux-kernels-edition\n",
            "100%|████████████████████████████████████████▊| 541M/544M [00:03<00:00, 132MB/s]\n",
            "100%|█████████████████████████████████████████| 544M/544M [00:03<00:00, 167MB/s]\n",
            "Downloading sample_submission.csv to /content/.kaggle/competitions/dogs-vs-cats-redux-kernels-edition\n",
            "  0%|                                                | 0.00/111k [00:00<?, ?B/s]\n",
            "100%|█████████████████████████████████████████| 111k/111k [00:00<00:00, 110MB/s]\n"
          ],
          "name": "stdout"
        }
      ]
    },
    {
      "metadata": {
        "id": "wdsoZsMEfyUJ",
        "colab_type": "code",
        "colab": {}
      },
      "cell_type": "code",
      "source": [
        "!mv ./.kaggle/competitions/dogs-vs-cats-redux-kernels-edition/* ./"
      ],
      "execution_count": 0,
      "outputs": []
    },
    {
      "metadata": {
        "id": "DGBGX99-gKKI",
        "colab_type": "code",
        "colab": {}
      },
      "cell_type": "code",
      "source": [
        "!unzip -q train.zip"
      ],
      "execution_count": 0,
      "outputs": []
    },
    {
      "metadata": {
        "id": "Ae5tAr4GgPxo",
        "colab_type": "code",
        "colab": {}
      },
      "cell_type": "code",
      "source": [
        "!unzip -q test.zip"
      ],
      "execution_count": 0,
      "outputs": []
    },
    {
      "metadata": {
        "id": "qRu1hDDggu4o",
        "colab_type": "code",
        "colab": {
          "base_uri": "https://localhost:8080/",
          "height": 70
        },
        "outputId": "f41d7445-b6fd-41cc-d6d2-69a6512f4213"
      },
      "cell_type": "code",
      "source": [
        "ls -a"
      ],
      "execution_count": 25,
      "outputs": [
        {
          "output_type": "stream",
          "text": [
            "\u001b[0m\u001b[01;34m.\u001b[0m/       \u001b[01;34m.config\u001b[0m/   \u001b[01;34m.ipython\u001b[0m/  \u001b[01;34m.local\u001b[0m/                \u001b[01;34mtest\u001b[0m/     train.zip\r\n",
            "\u001b[01;34m..\u001b[0m/      \u001b[01;34mdatalab\u001b[0m/   \u001b[01;34m.kaggle\u001b[0m/   .rnd                   test.zip\r\n",
            "\u001b[01;34m.cache\u001b[0m/  \u001b[01;34m.forever\u001b[0m/  \u001b[01;34m.keras\u001b[0m/    sample_submission.csv  \u001b[01;34mtrain\u001b[0m/\r\n"
          ],
          "name": "stdout"
        }
      ]
    },
    {
      "metadata": {
        "id": "fF6jFcSdg6Gh",
        "colab_type": "code",
        "colab": {}
      },
      "cell_type": "code",
      "source": [
        "import os\n",
        "import skimage\n",
        "from skimage import data,transform\n",
        "import matplotlib.pyplot as plt \n",
        "import pandas as pd\n",
        "import numpy as np\n",
        "from keras import applications\n",
        "from keras.models import Model\n",
        "from keras import optimizers\n",
        "from keras.models import Sequential\n",
        "from keras.layers import Dense, Dropout, Flatten\n",
        "from keras.layers import Conv2D, MaxPooling2D\n",
        "from keras.layers.normalization import BatchNormalization\n",
        "from keras.metrics import categorical_accuracy\n",
        "from keras.preprocessing.image import ImageDataGenerator\n",
        "from keras.callbacks import EarlyStopping,History\n",
        "from keras.utils import to_categorical\n",
        "from keras.preprocessing.image import ImageDataGenerator\n",
        "from keras.callbacks import ModelCheckpoint\n",
        "from sklearn.preprocessing import LabelEncoder\n",
        "from sklearn.utils import shuffle\n",
        "import cv2\n",
        "from tqdm import tqdm\n",
        "from scipy.misc import imresize"
      ],
      "execution_count": 0,
      "outputs": []
    },
    {
      "metadata": {
        "id": "wTpCeUfoo5NS",
        "colab_type": "code",
        "colab": {}
      },
      "cell_type": "code",
      "source": [
        "def crop_to_square(img):\n",
        "    if img.shape[0] > img.shape[1]:\n",
        "        extra = (img.shape[0] - img.shape[1])\n",
        "        if extra % 2 == 0:\n",
        "            crop = img[extra // 2:-extra // 2, :]\n",
        "        else:\n",
        "            crop = img[max(0, extra // 2 + 1):min(-1, -(extra // 2)), :]\n",
        "    elif img.shape[1] > img.shape[0]:\n",
        "        extra = (img.shape[1] - img.shape[0])\n",
        "        if extra % 2 == 0:\n",
        "            crop = img[:, extra // 2:-extra // 2]\n",
        "        else:\n",
        "            crop = img[:, max(0, extra // 2 + 1):min(-1, -(extra // 2))]\n",
        "    else:\n",
        "        crop = img\n",
        "    return crop"
      ],
      "execution_count": 0,
      "outputs": []
    },
    {
      "metadata": {
        "id": "-nyVotLwg73V",
        "colab_type": "code",
        "colab": {
          "base_uri": "https://localhost:8080/",
          "height": 125
        },
        "outputId": "038e8b7f-3c27-4f55-89c6-48c83ec44815"
      },
      "cell_type": "code",
      "source": [
        "ROOT_PATH = \"/content\"\n",
        "data_directory = os.path.join(ROOT_PATH, \"train\")\n",
        "\n",
        "labels = []\n",
        "X_train = []\n",
        "   \n",
        "file_names = os.listdir(data_directory)\n",
        "for f in tqdm(file_names):\n",
        "  img=plt.imread(os.path.join(data_directory,f))\n",
        "  labels.append(f[0:3])\n",
        "  crop = crop_to_square(img)\n",
        "  rsz = imresize(crop, size=(64,64))\n",
        "  X_train += [rsz]\n"
      ],
      "execution_count": 28,
      "outputs": [
        {
          "output_type": "stream",
          "text": [
            "  0%|          | 0/25000 [00:00<?, ?it/s]/usr/local/lib/python3.6/dist-packages/scipy/misc/pilutil.py:482: FutureWarning: Conversion of the second argument of issubdtype from `int` to `np.signedinteger` is deprecated. In future, it will be treated as `np.int64 == np.dtype(int).type`.\n",
            "  if issubdtype(ts, int):\n",
            "/usr/local/lib/python3.6/dist-packages/scipy/misc/pilutil.py:485: FutureWarning: Conversion of the second argument of issubdtype from `float` to `np.floating` is deprecated. In future, it will be treated as `np.float64 == np.dtype(float).type`.\n",
            "  elif issubdtype(type(size), float):\n",
            " 12%|█▏        | 2986/25000 [00:16<02:00, 182.36it/s]"
          ],
          "name": "stderr"
        },
        {
          "output_type": "stream",
          "text": [
            "100%|██████████| 25000/25000 [02:16<00:00, 182.62it/s]\n"
          ],
          "name": "stderr"
        }
      ]
    },
    {
      "metadata": {
        "id": "PEX3VmX1jSDL",
        "colab_type": "code",
        "colab": {
          "base_uri": "https://localhost:8080/",
          "height": 366
        },
        "outputId": "7be9a59c-d0ca-490b-b8c5-e080d7915e7c"
      },
      "cell_type": "code",
      "source": [
        "plt.imshow(X_train[1])"
      ],
      "execution_count": 29,
      "outputs": [
        {
          "output_type": "execute_result",
          "data": {
            "text/plain": [
              "<matplotlib.image.AxesImage at 0x7f456827d4e0>"
            ]
          },
          "metadata": {
            "tags": []
          },
          "execution_count": 29
        },
        {
          "output_type": "display_data",
          "data": {
            "image/png": "[encoded data removed]",
            "text/plain": [
              "<matplotlib.figure.Figure at 0x7f45682a3eb8>"
            ]
          },
          "metadata": {
            "tags": []
          }
        }
      ]
    },
    {
      "metadata": {
        "id": "jrK3J9-KjMzO",
        "colab_type": "code",
        "colab": {}
      },
      "cell_type": "code",
      "source": [
        "X_train=np.array(X_train)"
      ],
      "execution_count": 0,
      "outputs": []
    },
    {
      "metadata": {
        "id": "04qbuCZEjlvg",
        "colab_type": "code",
        "colab": {
          "base_uri": "https://localhost:8080/",
          "height": 419
        },
        "outputId": "3d8226a9-3968-4973-8a99-b79f429aa1cf"
      },
      "cell_type": "code",
      "source": [
        "!free -m\n",
        "plt.imshow(X_train[1])\n",
        "print(labels[1])\n",
        "X_train,labels=shuffle(X_train,labels,random_state=42)"
      ],
      "execution_count": 31,
      "outputs": [
        {
          "output_type": "stream",
          "text": [
            "              total        used        free      shared  buff/cache   available\r\n",
            "Mem:          13029        1081         153         247       11794       11452\r\n",
            "Swap:             0           0           0\r\n",
            "dog\n"
          ],
          "name": "stdout"
        },
        {
          "output_type": "display_data",
          "data": {
            "image/png": "[encoded data removed]",
            "text/plain": [
              "<matplotlib.figure.Figure at 0x7f45682af518>"
            ]
          },
          "metadata": {
            "tags": []
          }
        }
      ]
    },
    {
      "metadata": {
        "id": "KRrIH97q3aCW",
        "colab_type": "code",
        "colab": {
          "base_uri": "https://localhost:8080/",
          "height": 366
        },
        "outputId": "1c16aa9b-68fb-4c21-afa3-ed6f3ba5c315"
      },
      "cell_type": "code",
      "source": [
        "plt.imshow(X_train[1])\n",
        "print(labels[1])\n"
      ],
      "execution_count": 32,
      "outputs": [
        {
          "output_type": "stream",
          "text": [
            "dog\n"
          ],
          "name": "stdout"
        },
        {
          "output_type": "display_data",
          "data": {
            "image/png": "[encoded data removed]",
            "text/plain": [
              "<matplotlib.figure.Figure at 0x7f45682a3ef0>"
            ]
          },
          "metadata": {
            "tags": []
          }
        }
      ]
    },
    {
      "metadata": {
        "id": "iE4xTx6hyymv",
        "colab_type": "code",
        "colab": {
          "base_uri": "https://localhost:8080/",
          "height": 52
        },
        "outputId": "7b85a0be-1df6-47b6-9068-829c5c3f2417"
      },
      "cell_type": "code",
      "source": [
        "en=LabelEncoder()\n",
        "encoder=en.fit(labels)\n",
        "y_train=encoder.transform(labels)\n",
        "print(encoder.transform(['dog','cat']))\n",
        "#y_train= to_categorical(encoded)\n",
        "print(y_train[:10])"
      ],
      "execution_count": 69,
      "outputs": [
        {
          "output_type": "stream",
          "text": [
            "[1 0]\n",
            "[1 1 0 1 1 0 1 0 1 1]\n"
          ],
          "name": "stdout"
        }
      ]
    },
    {
      "metadata": {
        "id": "CnLzrZoE2fKZ",
        "colab_type": "code",
        "colab": {}
      },
      "cell_type": "code",
      "source": [
        "input_shape=(64,64,3)"
      ],
      "execution_count": 0,
      "outputs": []
    },
    {
      "metadata": {
        "id": "YHGffj_o2Bdw",
        "colab_type": "code",
        "colab": {}
      },
      "cell_type": "code",
      "source": [
        "model = Sequential()\n",
        "model.add(Conv2D(32, kernel_size=(3, 3), strides=(1, 1),\n",
        "                 activation='relu',\n",
        "                 input_shape=input_shape,padding='same'))\n",
        "model.add(MaxPooling2D(pool_size=(2, 2), strides=(1, 1)))\n",
        "model.add(BatchNormalization())\n",
        "model.add(Dropout(0.5))\n",
        "model.add(Conv2D(32, (3, 3), activation='relu',padding='same'))\n",
        "model.add(MaxPooling2D(pool_size=(2, 2), strides=(1, 1)))\n",
        "model.add(BatchNormalization())\n",
        "model.add(Dropout(0.5))\n",
        "model.add(Conv2D(64, (3, 3), activation='relu',padding='same'))\n",
        "model.add(MaxPooling2D(pool_size=(2, 2)))\n",
        "model.add(BatchNormalization())\n",
        "model.add(Dropout(0.5))\n",
        "\n",
        "model.add(Conv2D(64, (3, 3), activation='relu',padding='same'))\n",
        "model.add(MaxPooling2D(pool_size=(2, 2), strides=(1, 1)))\n",
        "model.add(BatchNormalization())\n",
        "model.add(Dropout(0.5))\n",
        "model.add(Conv2D(128, (5, 5), activation='relu',padding='same'))\n",
        "model.add(MaxPooling2D(pool_size=(2, 2)))\n",
        "model.add(BatchNormalization())\n",
        "model.add(Dropout(0.5))\n",
        "\n",
        "model.add(Conv2D(256, (5, 5), activation='relu',padding='same'))\n",
        "model.add(MaxPooling2D(pool_size=(2, 2)))\n",
        "model.add(BatchNormalization())\n",
        "model.add(Dropout(0.5))\n",
        "\n",
        "model.add(Conv2D(256, (5, 5),strides=(2,2), activation='relu',padding='valid'))\n",
        "model.add(BatchNormalization())\n",
        "\n",
        "model.add(Dropout(0.5))\n",
        "\n",
        "model.add(Conv2D(512, (5, 5),strides=(2,2), activation='relu',padding='same'))\n",
        "model.add(BatchNormalization())\n",
        "\n",
        "model.add(Dropout(0.5))\n",
        "\n",
        "model.add(Conv2D(512, (5, 5),strides=(2,2), activation='relu',padding='same'))\n",
        "model.add(BatchNormalization())\n",
        "\n",
        "model.add(Dropout(0.5))\n",
        "model.add(Flatten())\n",
        "\n",
        "model.add(Dense(1, activation='sigmoid'))"
      ],
      "execution_count": 0,
      "outputs": []
    },
    {
      "metadata": {
        "id": "idSZM8HQzBP5",
        "colab_type": "code",
        "colab": {
          "base_uri": "https://localhost:8080/",
          "height": 1110
        },
        "outputId": "a67ec29f-87c0-4806-bf61-12a59cd97fdd"
      },
      "cell_type": "code",
      "source": [
        "optimizer=optimizers.adam(lr=0.001)\n",
        "model.compile(optimizer=optimizer,loss='binary_crossentropy',metrics=['binary_accuracy'])\n",
        "train_model=model.fit(X_train,y_train,validation_split=0.1,epochs=30,batch_size=32)"
      ],
      "execution_count": 72,
      "outputs": [
        {
          "output_type": "stream",
          "text": [
            "Train on 22500 samples, validate on 2500 samples\n",
            "Epoch 1/30\n",
            "20416/22500 [==========================>...] - ETA: 10s - loss: 0.7841 - binary_accuracy: 0.5955"
          ],
          "name": "stdout"
        },
        {
          "output_type": "stream",
          "text": [
            "22500/22500 [==============================] - 114s 5ms/step - loss: 0.7705 - binary_accuracy: 0.6032 - val_loss: 0.7661 - val_binary_accuracy: 0.5100\n",
            "Epoch 2/30\n",
            "11552/22500 [==============>...............] - ETA: 51s - loss: 0.6283 - binary_accuracy: 0.6736"
          ],
          "name": "stdout"
        },
        {
          "output_type": "stream",
          "text": [
            "22500/22500 [==============================] - 109s 5ms/step - loss: 0.6050 - binary_accuracy: 0.6844 - val_loss: 0.6150 - val_binary_accuracy: 0.6608\n",
            "Epoch 3/30\n",
            " 8256/22500 [==========>...................] - ETA: 1:07 - loss: 0.5539 - binary_accuracy: 0.7207"
          ],
          "name": "stdout"
        },
        {
          "output_type": "stream",
          "text": [
            "22500/22500 [==============================] - 109s 5ms/step - loss: 0.5403 - binary_accuracy: 0.7301 - val_loss: 0.5850 - val_binary_accuracy: 0.7024\n",
            "Epoch 4/30\n",
            " 7040/22500 [========>.....................] - ETA: 1:13 - loss: 0.5031 - binary_accuracy: 0.7560"
          ],
          "name": "stdout"
        },
        {
          "output_type": "stream",
          "text": [
            "22500/22500 [==============================] - 109s 5ms/step - loss: 0.5001 - binary_accuracy: 0.7560 - val_loss: 0.6649 - val_binary_accuracy: 0.6840\n",
            "Epoch 5/30\n",
            " 6592/22500 [=======>......................] - ETA: 1:15 - loss: 0.4676 - binary_accuracy: 0.7831"
          ],
          "name": "stdout"
        },
        {
          "output_type": "stream",
          "text": [
            "22500/22500 [==============================] - 109s 5ms/step - loss: 0.4596 - binary_accuracy: 0.7838 - val_loss: 0.4849 - val_binary_accuracy: 0.7704\n",
            "Epoch 6/30\n",
            " 6400/22500 [=======>......................] - ETA: 1:16 - loss: 0.4203 - binary_accuracy: 0.8083"
          ],
          "name": "stdout"
        },
        {
          "output_type": "stream",
          "text": [
            "22500/22500 [==============================] - 109s 5ms/step - loss: 0.4180 - binary_accuracy: 0.8092 - val_loss: 0.4684 - val_binary_accuracy: 0.7772\n",
            "Epoch 7/30\n",
            " 6336/22500 [=======>......................] - ETA: 1:16 - loss: 0.3947 - binary_accuracy: 0.8217"
          ],
          "name": "stdout"
        },
        {
          "output_type": "stream",
          "text": [
            "22500/22500 [==============================] - 109s 5ms/step - loss: 0.3829 - binary_accuracy: 0.8266 - val_loss: 0.6449 - val_binary_accuracy: 0.7120\n",
            "Epoch 8/30\n",
            " 6304/22500 [=======>......................] - ETA: 1:16 - loss: 0.3462 - binary_accuracy: 0.8436"
          ],
          "name": "stdout"
        },
        {
          "output_type": "stream",
          "text": [
            "22500/22500 [==============================] - 109s 5ms/step - loss: 0.3508 - binary_accuracy: 0.8430 - val_loss: 0.7758 - val_binary_accuracy: 0.6300\n",
            "Epoch 9/30\n",
            " 6304/22500 [=======>......................] - ETA: 1:16 - loss: 0.3131 - binary_accuracy: 0.8620"
          ],
          "name": "stdout"
        },
        {
          "output_type": "stream",
          "text": [
            "22500/22500 [==============================] - 109s 5ms/step - loss: 0.3202 - binary_accuracy: 0.8579 - val_loss: 0.3555 - val_binary_accuracy: 0.8488\n",
            "Epoch 10/30\n",
            " 6272/22500 [=======>......................] - ETA: 1:16 - loss: 0.3296 - binary_accuracy: 0.8563"
          ],
          "name": "stdout"
        },
        {
          "output_type": "stream",
          "text": [
            "22500/22500 [==============================] - 109s 5ms/step - loss: 0.3135 - binary_accuracy: 0.8633 - val_loss: 0.6469 - val_binary_accuracy: 0.6780\n",
            "Epoch 11/30\n",
            " 6272/22500 [=======>......................] - ETA: 1:16 - loss: 0.2820 - binary_accuracy: 0.8819"
          ],
          "name": "stdout"
        },
        {
          "output_type": "stream",
          "text": [
            "22500/22500 [==============================] - 109s 5ms/step - loss: 0.2836 - binary_accuracy: 0.8812 - val_loss: 0.2932 - val_binary_accuracy: 0.8808\n",
            "Epoch 12/30\n",
            " 6272/22500 [=======>......................] - ETA: 1:16 - loss: 0.2659 - binary_accuracy: 0.8830"
          ],
          "name": "stdout"
        },
        {
          "output_type": "stream",
          "text": [
            "22500/22500 [==============================] - 109s 5ms/step - loss: 0.2663 - binary_accuracy: 0.8856 - val_loss: 0.2855 - val_binary_accuracy: 0.8768\n",
            "Epoch 13/30\n",
            " 6272/22500 [=======>......................] - ETA: 1:16 - loss: 0.2627 - binary_accuracy: 0.8927"
          ],
          "name": "stdout"
        },
        {
          "output_type": "stream",
          "text": [
            "22500/22500 [==============================] - 109s 5ms/step - loss: 0.2525 - binary_accuracy: 0.8955 - val_loss: 0.3639 - val_binary_accuracy: 0.8348\n",
            "Epoch 14/30\n",
            " 6272/22500 [=======>......................] - ETA: 1:16 - loss: 0.2334 - binary_accuracy: 0.9019"
          ],
          "name": "stdout"
        },
        {
          "output_type": "stream",
          "text": [
            "22500/22500 [==============================] - 109s 5ms/step - loss: 0.2401 - binary_accuracy: 0.8993 - val_loss: 0.3573 - val_binary_accuracy: 0.8484\n",
            "Epoch 15/30\n",
            " 6272/22500 [=======>......................] - ETA: 1:16 - loss: 0.2398 - binary_accuracy: 0.8997"
          ],
          "name": "stdout"
        },
        {
          "output_type": "stream",
          "text": [
            "22500/22500 [==============================] - 109s 5ms/step - loss: 0.2307 - binary_accuracy: 0.9037 - val_loss: 0.2455 - val_binary_accuracy: 0.8960\n",
            "Epoch 16/30\n",
            " 6272/22500 [=======>......................] - ETA: 1:16 - loss: 0.2254 - binary_accuracy: 0.9085"
          ],
          "name": "stdout"
        },
        {
          "output_type": "stream",
          "text": [
            "22500/22500 [==============================] - 109s 5ms/step - loss: 0.2251 - binary_accuracy: 0.9074 - val_loss: 0.2388 - val_binary_accuracy: 0.8996\n",
            "Epoch 17/30\n",
            " 6272/22500 [=======>......................] - ETA: 1:16 - loss: 0.2021 - binary_accuracy: 0.9203"
          ],
          "name": "stdout"
        },
        {
          "output_type": "stream",
          "text": [
            "22500/22500 [==============================] - 109s 5ms/step - loss: 0.2137 - binary_accuracy: 0.9129 - val_loss: 0.2850 - val_binary_accuracy: 0.8736\n",
            "Epoch 18/30\n",
            " 6272/22500 [=======>......................] - ETA: 1:16 - loss: 0.1989 - binary_accuracy: 0.9193"
          ],
          "name": "stdout"
        },
        {
          "output_type": "stream",
          "text": [
            "22500/22500 [==============================] - 109s 5ms/step - loss: 0.2012 - binary_accuracy: 0.9164 - val_loss: 0.2579 - val_binary_accuracy: 0.8852\n",
            "Epoch 19/30\n",
            " 6272/22500 [=======>......................] - ETA: 1:16 - loss: 0.1993 - binary_accuracy: 0.9201"
          ],
          "name": "stdout"
        },
        {
          "output_type": "stream",
          "text": [
            "22500/22500 [==============================] - 109s 5ms/step - loss: 0.2000 - binary_accuracy: 0.9191 - val_loss: 0.2200 - val_binary_accuracy: 0.9136\n",
            "Epoch 20/30\n",
            " 6272/22500 [=======>......................] - ETA: 1:16 - loss: 0.1811 - binary_accuracy: 0.9259"
          ],
          "name": "stdout"
        },
        {
          "output_type": "stream",
          "text": [
            "22500/22500 [==============================] - 109s 5ms/step - loss: 0.1890 - binary_accuracy: 0.9230 - val_loss: 0.3097 - val_binary_accuracy: 0.8636\n",
            "Epoch 21/30\n",
            " 6272/22500 [=======>......................] - ETA: 1:16 - loss: 0.1686 - binary_accuracy: 0.9322"
          ],
          "name": "stdout"
        },
        {
          "output_type": "stream",
          "text": [
            "22500/22500 [==============================] - 109s 5ms/step - loss: 0.1801 - binary_accuracy: 0.9269 - val_loss: 0.2380 - val_binary_accuracy: 0.8968\n",
            "Epoch 22/30\n",
            " 6272/22500 [=======>......................] - ETA: 1:16 - loss: 0.1629 - binary_accuracy: 0.9349"
          ],
          "name": "stdout"
        },
        {
          "output_type": "stream",
          "text": [
            "22500/22500 [==============================] - 109s 5ms/step - loss: 0.1730 - binary_accuracy: 0.9314 - val_loss: 0.3381 - val_binary_accuracy: 0.8588\n",
            "Epoch 23/30\n",
            " 6272/22500 [=======>......................] - ETA: 1:16 - loss: 0.1631 - binary_accuracy: 0.9361"
          ],
          "name": "stdout"
        },
        {
          "output_type": "stream",
          "text": [
            "22500/22500 [==============================] - 109s 5ms/step - loss: 0.1652 - binary_accuracy: 0.9344 - val_loss: 0.2042 - val_binary_accuracy: 0.9188\n",
            "Epoch 24/30\n",
            " 6272/22500 [=======>......................] - ETA: 1:16 - loss: 0.1668 - binary_accuracy: 0.9306"
          ],
          "name": "stdout"
        },
        {
          "output_type": "stream",
          "text": [
            "22500/22500 [==============================] - 109s 5ms/step - loss: 0.1659 - binary_accuracy: 0.9316 - val_loss: 0.2173 - val_binary_accuracy: 0.9088\n",
            "Epoch 25/30\n",
            " 6272/22500 [=======>......................] - ETA: 1:16 - loss: 0.1434 - binary_accuracy: 0.9434"
          ],
          "name": "stdout"
        },
        {
          "output_type": "stream",
          "text": [
            "22500/22500 [==============================] - 109s 5ms/step - loss: 0.1544 - binary_accuracy: 0.9376 - val_loss: 0.2477 - val_binary_accuracy: 0.9004\n",
            "Epoch 26/30\n",
            " 6272/22500 [=======>......................] - ETA: 1:16 - loss: 0.1459 - binary_accuracy: 0.9464"
          ],
          "name": "stdout"
        },
        {
          "output_type": "stream",
          "text": [
            "22500/22500 [==============================] - 109s 5ms/step - loss: 0.1570 - binary_accuracy: 0.9385 - val_loss: 0.2908 - val_binary_accuracy: 0.8768\n",
            "Epoch 27/30\n",
            " 6272/22500 [=======>......................] - ETA: 1:16 - loss: 0.1410 - binary_accuracy: 0.9416"
          ],
          "name": "stdout"
        },
        {
          "output_type": "stream",
          "text": [
            "22500/22500 [==============================] - 109s 5ms/step - loss: 0.1512 - binary_accuracy: 0.9392 - val_loss: 0.2750 - val_binary_accuracy: 0.8844\n",
            "Epoch 28/30\n",
            " 6272/22500 [=======>......................] - ETA: 1:16 - loss: 0.1611 - binary_accuracy: 0.9367"
          ],
          "name": "stdout"
        },
        {
          "output_type": "stream",
          "text": [
            "22500/22500 [==============================] - 109s 5ms/step - loss: 0.1476 - binary_accuracy: 0.9416 - val_loss: 0.3074 - val_binary_accuracy: 0.8684\n",
            "Epoch 29/30\n",
            " 6272/22500 [=======>......................] - ETA: 1:16 - loss: 0.1310 - binary_accuracy: 0.9485"
          ],
          "name": "stdout"
        },
        {
          "output_type": "stream",
          "text": [
            "22500/22500 [==============================] - 109s 5ms/step - loss: 0.1370 - binary_accuracy: 0.9459 - val_loss: 0.2682 - val_binary_accuracy: 0.8896\n",
            "Epoch 30/30\n",
            " 6272/22500 [=======>......................] - ETA: 1:16 - loss: 0.1404 - binary_accuracy: 0.9452"
          ],
          "name": "stdout"
        },
        {
          "output_type": "stream",
          "text": [
            "22500/22500 [==============================] - 109s 5ms/step - loss: 0.1345 - binary_accuracy: 0.9480 - val_loss: 0.2055 - val_binary_accuracy: 0.9148\n"
          ],
          "name": "stdout"
        }
      ]
    },
    {
      "metadata": {
        "id": "1wQFZyu2ahXj",
        "colab_type": "code",
        "colab": {
          "base_uri": "https://localhost:8080/",
          "height": 376
        },
        "outputId": "80aa95af-8c8e-48e7-c60c-62cbc2d3fe90"
      },
      "cell_type": "code",
      "source": [
        "plt.plot(train_model.history['loss'])\n",
        "plt.plot(train_model.history['val_loss'])\n",
        "plt.title('model loss')\n",
        "plt.ylabel('loss')\n",
        "plt.xlabel('epoch')\n",
        "plt.legend(['train', 'test'], loc='upper right')\n",
        "plt.show()"
      ],
      "execution_count": 73,
      "outputs": [
        {
          "output_type": "display_data",
          "data": {
            "image/png": "[encoded data removed]",
            "text/plain": [
              "<matplotlib.figure.Figure at 0x7f4521a4e6a0>"
            ]
          },
          "metadata": {
            "tags": []
          }
        }
      ]
    },
    {
      "metadata": {
        "id": "QQMBkxgH1WKK",
        "colab_type": "code",
        "colab": {
          "base_uri": "https://localhost:8080/",
          "height": 125
        },
        "outputId": "db8ac1f7-adab-4291-f381-d8e09e44a96a"
      },
      "cell_type": "code",
      "source": [
        "ROOT_PATH = \"/content\"\n",
        "data_directory = os.path.join(ROOT_PATH, \"test1\")\n",
        "test_im = os.listdir('test/')\n",
        "m_test =len(test_im)\n",
        "X_test = []\n",
        "   \n",
        "for i in tqdm(range(m_test)):\n",
        "  img = plt.imread('test/'+str(i+1)+'.jpg')\n",
        "  crop = crop_to_square(img)\n",
        "  rsz = imresize(crop, size=(64,64))\n",
        "  X_test += [rsz]\n"
      ],
      "execution_count": 74,
      "outputs": [
        {
          "output_type": "stream",
          "text": [
            "  0%|          | 0/12500 [00:00<?, ?it/s]/usr/local/lib/python3.6/dist-packages/scipy/misc/pilutil.py:482: FutureWarning: Conversion of the second argument of issubdtype from `int` to `np.signedinteger` is deprecated. In future, it will be treated as `np.int64 == np.dtype(int).type`.\n",
            "  if issubdtype(ts, int):\n",
            "/usr/local/lib/python3.6/dist-packages/scipy/misc/pilutil.py:485: FutureWarning: Conversion of the second argument of issubdtype from `float` to `np.floating` is deprecated. In future, it will be treated as `np.float64 == np.dtype(float).type`.\n",
            "  elif issubdtype(type(size), float):\n",
            " 24%|██▍       | 3037/12500 [00:16<00:51, 184.40it/s]"
          ],
          "name": "stderr"
        },
        {
          "output_type": "stream",
          "text": [
            "100%|██████████| 12500/12500 [01:08<00:00, 182.93it/s]\n"
          ],
          "name": "stderr"
        }
      ]
    },
    {
      "metadata": {
        "id": "NDOQMom2Wz2o",
        "colab_type": "code",
        "colab": {
          "base_uri": "https://localhost:8080/",
          "height": 52
        },
        "outputId": "ad04de81-39f7-410b-d27d-17d0dc0ad60a"
      },
      "cell_type": "code",
      "source": [
        "!ls"
      ],
      "execution_count": 75,
      "outputs": [
        {
          "output_type": "stream",
          "text": [
            "datalab   model.json\t\t submission1.csv  test.zip  train.zip\r\n",
            "model.h5  sample_submission.csv  test\t\t  train\r\n"
          ],
          "name": "stdout"
        }
      ]
    },
    {
      "metadata": {
        "id": "9mlabLstWC2P",
        "colab_type": "code",
        "colab": {
          "base_uri": "https://localhost:8080/",
          "height": 193
        },
        "outputId": "f82d3d98-6b5a-44f2-fbda-9a2f6a9c0190"
      },
      "cell_type": "code",
      "source": [
        "file_names[:10]"
      ],
      "execution_count": 76,
      "outputs": [
        {
          "output_type": "execute_result",
          "data": {
            "text/plain": [
              "['dog.7961.jpg',\n",
              " 'dog.10763.jpg',\n",
              " 'cat.3598.jpg',\n",
              " 'cat.11760.jpg',\n",
              " 'dog.9009.jpg',\n",
              " 'dog.2584.jpg',\n",
              " 'cat.7590.jpg',\n",
              " 'dog.10631.jpg',\n",
              " 'dog.9983.jpg',\n",
              " 'dog.11988.jpg']"
            ]
          },
          "metadata": {
            "tags": []
          },
          "execution_count": 76
        }
      ]
    },
    {
      "metadata": {
        "id": "JPLRLB90h9Eg",
        "colab_type": "code",
        "colab": {}
      },
      "cell_type": "code",
      "source": [
        "X_test=np.array(X_test)\n"
      ],
      "execution_count": 0,
      "outputs": []
    },
    {
      "metadata": {
        "id": "-Sls2v5biDT5",
        "colab_type": "code",
        "colab": {
          "base_uri": "https://localhost:8080/",
          "height": 366
        },
        "outputId": "b538f526-ddd0-4f76-c7b6-4fc9522e334a"
      },
      "cell_type": "code",
      "source": [
        "plt.imshow(X_test[5])"
      ],
      "execution_count": 78,
      "outputs": [
        {
          "output_type": "execute_result",
          "data": {
            "text/plain": [
              "<matplotlib.image.AxesImage at 0x7f45424cf780>"
            ]
          },
          "metadata": {
            "tags": []
          },
          "execution_count": 78
        },
        {
          "output_type": "display_data",
          "data": {
            "image/png": "[encoded data removed]",
            "text/plain": [
              "<matplotlib.figure.Figure at 0x7f4538fd0400>"
            ]
          },
          "metadata": {
            "tags": []
          }
        }
      ]
    },
    {
      "metadata": {
        "id": "v4l0nV2SmEqf",
        "colab_type": "code",
        "colab": {}
      },
      "cell_type": "code",
      "source": [
        "\n",
        "p=model.predict(X_test)"
      ],
      "execution_count": 0,
      "outputs": []
    },
    {
      "metadata": {
        "id": "MS3pIdeCnndg",
        "colab_type": "code",
        "colab": {}
      },
      "cell_type": "code",
      "source": [
        "pred = np.insert(p, 0, np.arange(1, m_test+1), axis=1)"
      ],
      "execution_count": 0,
      "outputs": []
    },
    {
      "metadata": {
        "id": "GGU0MGqSowmB",
        "colab_type": "code",
        "colab": {}
      },
      "cell_type": "code",
      "source": [
        "pred_df = pd.DataFrame(data=pred, columns=['id', 'label'], dtype='float32')\n",
        "pred_df['id'] = pred_df['id'].astype('int64')"
      ],
      "execution_count": 0,
      "outputs": []
    },
    {
      "metadata": {
        "id": "GQn5fTQ0FvUl",
        "colab_type": "code",
        "colab": {}
      },
      "cell_type": "code",
      "source": [
        "pred_df.to_csv('submission.csv', index=False)"
      ],
      "execution_count": 0,
      "outputs": []
    },
    {
      "metadata": {
        "id": "pL7QQcwGpZ1B",
        "colab_type": "code",
        "colab": {
          "base_uri": "https://localhost:8080/",
          "height": 52
        },
        "outputId": "46404f55-2f6a-4932-cfd4-63ae09aa3a60"
      },
      "cell_type": "code",
      "source": [
        "!kaggle competitions submit -c dogs-vs-cats-redux-kernels-edition -f submission.csv -m \"dogs and cats classifier using 8 convulational layes and 1 dense layer\""
      ],
      "execution_count": 98,
      "outputs": [
        {
          "output_type": "stream",
          "text": [
            "Warning: Your Kaggle API key is readable by other users on this system! To fix this, you can run 'chmod 600 /content/.kaggle/kaggle.json'\r\n",
            "Successfully submitted to Dogs vs. Cats Redux: Kernels Edition"
          ],
          "name": "stdout"
        }
      ]
    },
    {
      "metadata": {
        "id": "aNXxr2wBpq5X",
        "colab_type": "code",
        "colab": {
          "base_uri": "https://localhost:8080/",
          "height": 34
        },
        "outputId": "15693b76-b0a6-4069-b659-5e49ea963d48"
      },
      "cell_type": "code",
      "source": [
        "\n",
        "model_json  = model.to_json()\n",
        "with open(\"model.json\", \"w\") as json_file:\n",
        "    json_file.write(model_json)\n",
        "model.save_weights(\"model.h5\")\n",
        "print(\"Saved model to disk\")"
      ],
      "execution_count": 55,
      "outputs": [
        {
          "output_type": "stream",
          "text": [
            "Saved model to disk\n"
          ],
          "name": "stdout"
        }
      ]
    },
    {
      "metadata": {
        "id": "Qg601-_wrXdF",
        "colab_type": "code",
        "colab": {
          "base_uri": "https://localhost:8080/",
          "height": 87
        },
        "outputId": "ac97675e-1652-4e5e-c68e-3bc73ed8c113"
      },
      "cell_type": "code",
      "source": [
        "ls -a"
      ],
      "execution_count": 0,
      "outputs": [
        {
          "output_type": "stream",
          "text": [
            "\u001b[0m\u001b[01;34m.\u001b[0m/        \u001b[01;34mdatalab\u001b[0m/   \u001b[01;34m.keras\u001b[0m/     \u001b[01;34m.nv\u001b[0m/                  \u001b[01;34mtest1\u001b[0m/\r\n",
            "\u001b[01;34m..\u001b[0m/       \u001b[01;34m.forever\u001b[0m/  \u001b[01;34m.local\u001b[0m/     .rnd                  test1.zip\r\n",
            "\u001b[01;34m.cache\u001b[0m/   \u001b[01;34m.ipython\u001b[0m/  model.h5    sampleSubmission.csv  \u001b[01;34mtrain\u001b[0m/\r\n",
            "\u001b[01;34m.config\u001b[0m/  \u001b[01;34m.kaggle\u001b[0m/   model.json  submission1.csv       train.zip\r\n"
          ],
          "name": "stdout"
        }
      ]
    },
    {
      "metadata": {
        "id": "6KMtIL8mrej0",
        "colab_type": "code",
        "colab": {}
      },
      "cell_type": "code",
      "source": [
        "files.download('submission1.csv')  "
      ],
      "execution_count": 0,
      "outputs": []
    },
    {
      "metadata": {
        "id": "Jf6zeVkYsASJ",
        "colab_type": "code",
        "colab": {}
      },
      "cell_type": "code",
      "source": [
        ""
      ],
      "execution_count": 0,
      "outputs": []
    }
  ]
}